{
 "cells": [
  {
   "cell_type": "markdown",
   "metadata": {},
   "source": [
    "# Problema"
   ]
  },
  {
   "cell_type": "markdown",
   "metadata": {},
   "source": [
    "#### En la actualidad las redes neuronales son el unico modelo que existe para realizar aprendizaje profundo"
   ]
  },
  {
   "cell_type": "code",
   "execution_count": null,
   "metadata": {},
   "outputs": [],
   "source": []
  },
  {
   "cell_type": "code",
   "execution_count": 138,
   "metadata": {},
   "outputs": [],
   "source": [
    "import numpy as np\n",
    "import matplotlib.pyplot as plt\n",
    "import pandas as pd\n",
    "import random\n",
    "import math\n",
    "import torch\n",
    "import torch.nn.functional as F\n",
    "import torch.optim as optim\n",
    "from torch.utils.data import DataLoader,Dataset\n",
    "from torch.utils.data.sampler import SubsetRandomSampler\n",
    "import sklearn\n",
    "import itertools"
   ]
  },
  {
   "cell_type": "markdown",
   "metadata": {},
   "source": [
    "# Clase auxiliar para procesar los datos"
   ]
  },
  {
   "cell_type": "code",
   "execution_count": 492,
   "metadata": {},
   "outputs": [],
   "source": [
    "class CustomDataset(Dataset):\n",
    "    def __init__(self, csv_file):\n",
    "        super().__init__()\n",
    "        self.data = pd.read_csv(csv_file)\n",
    "        self.len = self.data.shape[0]\n",
    "    \n",
    "    def __getitem__(self,index):\n",
    "        x = self.data.iloc[index,1:-1].values.astype(dtype = 'float32')\n",
    "        y = self.data.iloc[index,-1]\n",
    "        x = torch.from_numpy(np.array(x)).type(torch.Tensor)\n",
    "        y = torch.from_numpy(np.array([y])).type(torch.LongTensor)\n",
    "        return index,x,y\n",
    "        \n",
    "    def __len__(self):\n",
    "        return self.len"
   ]
  },
  {
   "cell_type": "markdown",
   "metadata": {},
   "source": [
    "# Declaracion del modelo "
   ]
  },
  {
   "cell_type": "markdown",
   "metadata": {},
   "source": [
    "<img src=\"images/NN_Patrones (2).png\"/>"
   ]
  },
  {
   "cell_type": "code",
   "execution_count": 493,
   "metadata": {},
   "outputs": [],
   "source": [
    "class Model(torch.nn.Module):\n",
    "    def __init__(self):\n",
    "        super().__init__()\n",
    "        #self.fcl1 = torch.nn.Linear(5,6)\n",
    "        self.fcl2 = torch.nn.Linear(5,2)\n",
    "        self.sigmoid = torch.nn.Sigmoid()\n",
    "    \n",
    "    def forward(self,x):\n",
    "        #x = self.sigmoid(self.fcl1(x))\n",
    "        x = F.log_softmax(self.fcl2(x),dim=1)\n",
    "        return x"
   ]
  },
  {
   "cell_type": "markdown",
   "metadata": {},
   "source": [
    "# Procesamiento de los datos"
   ]
  },
  {
   "cell_type": "code",
   "execution_count": 494,
   "metadata": {},
   "outputs": [],
   "source": [
    "batch_size = 100\n",
    "valid_size = 0.2\n",
    "\n",
    "dataset_train = CustomDataset(\"datasets/occupancy_data/datatraining.txt\")\n",
    "dataset_test = CustomDataset(\"datasets/occupancy_data/datatest.txt\")\n",
    "\n",
    "num_train = len(dataset_train)\n",
    "indices = list(range(num_train))\n",
    "np.random.shuffle(indices)\n",
    "split = int(np.floor(valid_size * num_train))\n",
    "train_idx,valid_idx = indices[split:],indices[:split]\n",
    "\n",
    "train_sampler = SubsetRandomSampler(train_idx)\n",
    "valid_sampler = SubsetRandomSampler(valid_idx)\n",
    "\n",
    "train_loader = DataLoader(dataset=dataset_train,batch_size=batch_size, sampler = train_sampler,num_workers=2)\n",
    "eval_loader = DataLoader(dataset=dataset_train,batch_size=batch_size, sampler = valid_sampler,num_workers=2)\n",
    "test_loader = DataLoader(dataset=dataset_test,batch_size=batch_size,num_workers=2)"
   ]
  },
  {
   "cell_type": "markdown",
   "metadata": {},
   "source": [
    "# Resumen de los datos"
   ]
  },
  {
   "cell_type": "code",
   "execution_count": 495,
   "metadata": {},
   "outputs": [
    {
     "data": {
      "text/html": [
       "<div>\n",
       "<style scoped>\n",
       "    .dataframe tbody tr th:only-of-type {\n",
       "        vertical-align: middle;\n",
       "    }\n",
       "\n",
       "    .dataframe tbody tr th {\n",
       "        vertical-align: top;\n",
       "    }\n",
       "\n",
       "    .dataframe thead th {\n",
       "        text-align: right;\n",
       "    }\n",
       "</style>\n",
       "<table border=\"1\" class=\"dataframe\">\n",
       "  <thead>\n",
       "    <tr style=\"text-align: right;\">\n",
       "      <th></th>\n",
       "      <th>Temperature</th>\n",
       "      <th>Humidity</th>\n",
       "      <th>Light</th>\n",
       "      <th>CO2</th>\n",
       "      <th>HumidityRatio</th>\n",
       "      <th>Occupancy</th>\n",
       "    </tr>\n",
       "  </thead>\n",
       "  <tbody>\n",
       "    <tr>\n",
       "      <th>count</th>\n",
       "      <td>8143.000000</td>\n",
       "      <td>8143.000000</td>\n",
       "      <td>8143.000000</td>\n",
       "      <td>8143.000000</td>\n",
       "      <td>8143.000000</td>\n",
       "      <td>8143.000000</td>\n",
       "    </tr>\n",
       "    <tr>\n",
       "      <th>mean</th>\n",
       "      <td>20.619084</td>\n",
       "      <td>25.731507</td>\n",
       "      <td>119.519375</td>\n",
       "      <td>606.546243</td>\n",
       "      <td>0.003863</td>\n",
       "      <td>0.212330</td>\n",
       "    </tr>\n",
       "    <tr>\n",
       "      <th>std</th>\n",
       "      <td>1.016916</td>\n",
       "      <td>5.531211</td>\n",
       "      <td>194.755805</td>\n",
       "      <td>314.320877</td>\n",
       "      <td>0.000852</td>\n",
       "      <td>0.408982</td>\n",
       "    </tr>\n",
       "    <tr>\n",
       "      <th>min</th>\n",
       "      <td>19.000000</td>\n",
       "      <td>16.745000</td>\n",
       "      <td>0.000000</td>\n",
       "      <td>412.750000</td>\n",
       "      <td>0.002674</td>\n",
       "      <td>0.000000</td>\n",
       "    </tr>\n",
       "    <tr>\n",
       "      <th>25%</th>\n",
       "      <td>19.700000</td>\n",
       "      <td>20.200000</td>\n",
       "      <td>0.000000</td>\n",
       "      <td>439.000000</td>\n",
       "      <td>0.003078</td>\n",
       "      <td>0.000000</td>\n",
       "    </tr>\n",
       "    <tr>\n",
       "      <th>50%</th>\n",
       "      <td>20.390000</td>\n",
       "      <td>26.222500</td>\n",
       "      <td>0.000000</td>\n",
       "      <td>453.500000</td>\n",
       "      <td>0.003801</td>\n",
       "      <td>0.000000</td>\n",
       "    </tr>\n",
       "    <tr>\n",
       "      <th>75%</th>\n",
       "      <td>21.390000</td>\n",
       "      <td>30.533333</td>\n",
       "      <td>256.375000</td>\n",
       "      <td>638.833333</td>\n",
       "      <td>0.004352</td>\n",
       "      <td>0.000000</td>\n",
       "    </tr>\n",
       "    <tr>\n",
       "      <th>max</th>\n",
       "      <td>23.180000</td>\n",
       "      <td>39.117500</td>\n",
       "      <td>1546.333333</td>\n",
       "      <td>2028.500000</td>\n",
       "      <td>0.006476</td>\n",
       "      <td>1.000000</td>\n",
       "    </tr>\n",
       "  </tbody>\n",
       "</table>\n",
       "</div>"
      ],
      "text/plain": [
       "       Temperature     Humidity        Light          CO2  HumidityRatio  \\\n",
       "count  8143.000000  8143.000000  8143.000000  8143.000000    8143.000000   \n",
       "mean     20.619084    25.731507   119.519375   606.546243       0.003863   \n",
       "std       1.016916     5.531211   194.755805   314.320877       0.000852   \n",
       "min      19.000000    16.745000     0.000000   412.750000       0.002674   \n",
       "25%      19.700000    20.200000     0.000000   439.000000       0.003078   \n",
       "50%      20.390000    26.222500     0.000000   453.500000       0.003801   \n",
       "75%      21.390000    30.533333   256.375000   638.833333       0.004352   \n",
       "max      23.180000    39.117500  1546.333333  2028.500000       0.006476   \n",
       "\n",
       "         Occupancy  \n",
       "count  8143.000000  \n",
       "mean      0.212330  \n",
       "std       0.408982  \n",
       "min       0.000000  \n",
       "25%       0.000000  \n",
       "50%       0.000000  \n",
       "75%       0.000000  \n",
       "max       1.000000  "
      ]
     },
     "execution_count": 495,
     "metadata": {},
     "output_type": "execute_result"
    }
   ],
   "source": [
    "dataset_train.data.describe()"
   ]
  },
  {
   "cell_type": "markdown",
   "metadata": {},
   "source": [
    "# Datos de ejemplo"
   ]
  },
  {
   "cell_type": "code",
   "execution_count": 496,
   "metadata": {},
   "outputs": [
    {
     "data": {
      "text/html": [
       "<div>\n",
       "<style scoped>\n",
       "    .dataframe tbody tr th:only-of-type {\n",
       "        vertical-align: middle;\n",
       "    }\n",
       "\n",
       "    .dataframe tbody tr th {\n",
       "        vertical-align: top;\n",
       "    }\n",
       "\n",
       "    .dataframe thead th {\n",
       "        text-align: right;\n",
       "    }\n",
       "</style>\n",
       "<table border=\"1\" class=\"dataframe\">\n",
       "  <thead>\n",
       "    <tr style=\"text-align: right;\">\n",
       "      <th></th>\n",
       "      <th>date</th>\n",
       "      <th>Temperature</th>\n",
       "      <th>Humidity</th>\n",
       "      <th>Light</th>\n",
       "      <th>CO2</th>\n",
       "      <th>HumidityRatio</th>\n",
       "      <th>Occupancy</th>\n",
       "    </tr>\n",
       "  </thead>\n",
       "  <tbody>\n",
       "    <tr>\n",
       "      <th>1</th>\n",
       "      <td>2015-02-04 17:51:00</td>\n",
       "      <td>23.18</td>\n",
       "      <td>27.2720</td>\n",
       "      <td>426.0</td>\n",
       "      <td>721.25</td>\n",
       "      <td>0.004793</td>\n",
       "      <td>1</td>\n",
       "    </tr>\n",
       "    <tr>\n",
       "      <th>2</th>\n",
       "      <td>2015-02-04 17:51:59</td>\n",
       "      <td>23.15</td>\n",
       "      <td>27.2675</td>\n",
       "      <td>429.5</td>\n",
       "      <td>714.00</td>\n",
       "      <td>0.004783</td>\n",
       "      <td>1</td>\n",
       "    </tr>\n",
       "    <tr>\n",
       "      <th>3</th>\n",
       "      <td>2015-02-04 17:53:00</td>\n",
       "      <td>23.15</td>\n",
       "      <td>27.2450</td>\n",
       "      <td>426.0</td>\n",
       "      <td>713.50</td>\n",
       "      <td>0.004779</td>\n",
       "      <td>1</td>\n",
       "    </tr>\n",
       "    <tr>\n",
       "      <th>4</th>\n",
       "      <td>2015-02-04 17:54:00</td>\n",
       "      <td>23.15</td>\n",
       "      <td>27.2000</td>\n",
       "      <td>426.0</td>\n",
       "      <td>708.25</td>\n",
       "      <td>0.004772</td>\n",
       "      <td>1</td>\n",
       "    </tr>\n",
       "    <tr>\n",
       "      <th>5</th>\n",
       "      <td>2015-02-04 17:55:00</td>\n",
       "      <td>23.10</td>\n",
       "      <td>27.2000</td>\n",
       "      <td>426.0</td>\n",
       "      <td>704.50</td>\n",
       "      <td>0.004757</td>\n",
       "      <td>1</td>\n",
       "    </tr>\n",
       "  </tbody>\n",
       "</table>\n",
       "</div>"
      ],
      "text/plain": [
       "                  date  Temperature  Humidity  Light     CO2  HumidityRatio  \\\n",
       "1  2015-02-04 17:51:00        23.18   27.2720  426.0  721.25       0.004793   \n",
       "2  2015-02-04 17:51:59        23.15   27.2675  429.5  714.00       0.004783   \n",
       "3  2015-02-04 17:53:00        23.15   27.2450  426.0  713.50       0.004779   \n",
       "4  2015-02-04 17:54:00        23.15   27.2000  426.0  708.25       0.004772   \n",
       "5  2015-02-04 17:55:00        23.10   27.2000  426.0  704.50       0.004757   \n",
       "\n",
       "   Occupancy  \n",
       "1          1  \n",
       "2          1  \n",
       "3          1  \n",
       "4          1  \n",
       "5          1  "
      ]
     },
     "execution_count": 496,
     "metadata": {},
     "output_type": "execute_result"
    }
   ],
   "source": [
    "dataset_train.data.head()"
   ]
  },
  {
   "cell_type": "markdown",
   "metadata": {},
   "source": [
    "# Proceso de entrenamiento"
   ]
  },
  {
   "cell_type": "markdown",
   "metadata": {},
   "source": [
    "### Instanciamos el modelo de la red, el optimizador y la funcion de error"
   ]
  },
  {
   "cell_type": "code",
   "execution_count": 497,
   "metadata": {},
   "outputs": [],
   "source": [
    "model = Model()\n",
    "optimizer = optim.SGD(model.parameters(),lr = 0.001, momentum=0.5)\n",
    "criterion = torch.nn.NLLLoss()"
   ]
  },
  {
   "cell_type": "markdown",
   "metadata": {},
   "source": [
    "### Declaramos la funcion para realizar el entrenamiento"
   ]
  },
  {
   "cell_type": "code",
   "execution_count": 498,
   "metadata": {},
   "outputs": [],
   "source": [
    "def train(epochs,train,test):\n",
    "    errors = np.zeros(shape=(epochs,2))\n",
    "    min_eval_error = float(\"inf\")\n",
    "    for epoch in range(epochs):\n",
    "        train_error = 0\n",
    "        eval_error = 0\n",
    "        accuracy = 0\n",
    "        \n",
    "        count = 0\n",
    "        for index,x,y in train:\n",
    "            optimizer.zero_grad()\n",
    "            output = model(x)\n",
    "            y = y.reshape(-1)\n",
    "            error = criterion(output,y)\n",
    "            error.backward()\n",
    "            optimizer.step()\n",
    "            train_error += error.item()\n",
    "        \n",
    "        with torch.no_grad():\n",
    "            count = 0\n",
    "            for index,x,y in test:\n",
    "                output = model(x)\n",
    "                y = y.reshape(-1)\n",
    "                error = criterion(output,y)\n",
    "                eval_error += error.item()\n",
    "                inference = torch.exp(output)\n",
    "                topp,topc = inference.topk(1,dim=1)\n",
    "                equals = topc == y.view(*topc.shape)\n",
    "                accuracy += torch.sum(equals.type(torch.FloatTensor))\n",
    "                count += 100\n",
    "            accuracy = accuracy/count\n",
    "        errors[epoch]= [train_error,eval_error]\n",
    "        \n",
    "        if eval_error < min_eval_error :\n",
    "            torch.save(model.state_dict(), 'model.pt')\n",
    "            min_eval_error = eval_error\n",
    "    return errors,min_eval_error,accuracy"
   ]
  },
  {
   "cell_type": "markdown",
   "metadata": {},
   "source": [
    "### Ejecutamos la funcion de entrenamiento y obtenemos los errores de cada epoca, el minimo error y el accuracy"
   ]
  },
  {
   "cell_type": "code",
   "execution_count": 499,
   "metadata": {},
   "outputs": [],
   "source": [
    "errors,min_eval_error,accuracy = train(10,train_loader,eval_loader)"
   ]
  },
  {
   "cell_type": "markdown",
   "metadata": {},
   "source": [
    "### Graficamos los errores de entrenamiento y evaluacion"
   ]
  },
  {
   "cell_type": "code",
   "execution_count": 500,
   "metadata": {},
   "outputs": [
    {
     "name": "stdout",
     "output_type": "stream",
     "text": [
      "Error promedio en entrenamiento: 796.7515673398972\n",
      "Error minimo en evaluacion: 28.808859318494797\n",
      "Accuracy: 0.8482353091239929\n"
     ]
    },
    {
     "data": {
      "image/png": "[encoded data removed]",
      "text/plain": [
       "<Figure size 720x360 with 1 Axes>"
      ]
     },
     "metadata": {},
     "output_type": "display_data"
    }
   ],
   "source": [
    "#print(\"Error promedio en entrenamiento: {}\".format(errors[:,0].mean()))\n",
    "#print(\"Error minimo en evaluacion: {}\".format(min_eval_error))\n",
    "#print(\"Accuracy: {}\".format(accuracy))\n",
    "plt.figure(figsize=(10,5))\n",
    "plt.plot(errors[:,0],label=\"training\")\n",
    "plt.plot(errors[:,1],label=\"evaluation\")\n",
    "plt.xlabel(\"epochs\")\n",
    "plt.ylabel(\"error\")\n",
    "plt.legend()\n",
    "plt.show()"
   ]
  },
  {
   "cell_type": "markdown",
   "metadata": {},
   "source": [
    "### Cargamos el modelo previamente guardado en la etapa de entrenamiento"
   ]
  },
  {
   "cell_type": "code",
   "execution_count": 501,
   "metadata": {},
   "outputs": [],
   "source": [
    "model.load_state_dict(torch.load('model.pt', map_location=lambda storage, loc: storage))"
   ]
  },
  {
   "cell_type": "markdown",
   "metadata": {},
   "source": [
    "### Mostramos la descripcion del dataset de pruebas"
   ]
  },
  {
   "cell_type": "code",
   "execution_count": 502,
   "metadata": {},
   "outputs": [
    {
     "data": {
      "text/html": [
       "<div>\n",
       "<style scoped>\n",
       "    .dataframe tbody tr th:only-of-type {\n",
       "        vertical-align: middle;\n",
       "    }\n",
       "\n",
       "    .dataframe tbody tr th {\n",
       "        vertical-align: top;\n",
       "    }\n",
       "\n",
       "    .dataframe thead th {\n",
       "        text-align: right;\n",
       "    }\n",
       "</style>\n",
       "<table border=\"1\" class=\"dataframe\">\n",
       "  <thead>\n",
       "    <tr style=\"text-align: right;\">\n",
       "      <th></th>\n",
       "      <th>Temperature</th>\n",
       "      <th>Humidity</th>\n",
       "      <th>Light</th>\n",
       "      <th>CO2</th>\n",
       "      <th>HumidityRatio</th>\n",
       "      <th>Occupancy</th>\n",
       "    </tr>\n",
       "  </thead>\n",
       "  <tbody>\n",
       "    <tr>\n",
       "      <th>count</th>\n",
       "      <td>2665.000000</td>\n",
       "      <td>2665.000000</td>\n",
       "      <td>2665.000000</td>\n",
       "      <td>2665.000000</td>\n",
       "      <td>2665.000000</td>\n",
       "      <td>2665.000000</td>\n",
       "    </tr>\n",
       "    <tr>\n",
       "      <th>mean</th>\n",
       "      <td>21.433876</td>\n",
       "      <td>25.353937</td>\n",
       "      <td>193.227556</td>\n",
       "      <td>717.906470</td>\n",
       "      <td>0.004027</td>\n",
       "      <td>0.364728</td>\n",
       "    </tr>\n",
       "    <tr>\n",
       "      <th>std</th>\n",
       "      <td>1.028024</td>\n",
       "      <td>2.436842</td>\n",
       "      <td>250.210906</td>\n",
       "      <td>292.681718</td>\n",
       "      <td>0.000611</td>\n",
       "      <td>0.481444</td>\n",
       "    </tr>\n",
       "    <tr>\n",
       "      <th>min</th>\n",
       "      <td>20.200000</td>\n",
       "      <td>22.100000</td>\n",
       "      <td>0.000000</td>\n",
       "      <td>427.500000</td>\n",
       "      <td>0.003303</td>\n",
       "      <td>0.000000</td>\n",
       "    </tr>\n",
       "    <tr>\n",
       "      <th>25%</th>\n",
       "      <td>20.650000</td>\n",
       "      <td>23.260000</td>\n",
       "      <td>0.000000</td>\n",
       "      <td>466.000000</td>\n",
       "      <td>0.003529</td>\n",
       "      <td>0.000000</td>\n",
       "    </tr>\n",
       "    <tr>\n",
       "      <th>50%</th>\n",
       "      <td>20.890000</td>\n",
       "      <td>25.000000</td>\n",
       "      <td>0.000000</td>\n",
       "      <td>580.500000</td>\n",
       "      <td>0.003815</td>\n",
       "      <td>0.000000</td>\n",
       "    </tr>\n",
       "    <tr>\n",
       "      <th>75%</th>\n",
       "      <td>22.356667</td>\n",
       "      <td>26.856667</td>\n",
       "      <td>442.500000</td>\n",
       "      <td>956.333333</td>\n",
       "      <td>0.004532</td>\n",
       "      <td>1.000000</td>\n",
       "    </tr>\n",
       "    <tr>\n",
       "      <th>max</th>\n",
       "      <td>24.408333</td>\n",
       "      <td>31.472500</td>\n",
       "      <td>1697.250000</td>\n",
       "      <td>1402.250000</td>\n",
       "      <td>0.005378</td>\n",
       "      <td>1.000000</td>\n",
       "    </tr>\n",
       "  </tbody>\n",
       "</table>\n",
       "</div>"
      ],
      "text/plain": [
       "       Temperature     Humidity        Light          CO2  HumidityRatio  \\\n",
       "count  2665.000000  2665.000000  2665.000000  2665.000000    2665.000000   \n",
       "mean     21.433876    25.353937   193.227556   717.906470       0.004027   \n",
       "std       1.028024     2.436842   250.210906   292.681718       0.000611   \n",
       "min      20.200000    22.100000     0.000000   427.500000       0.003303   \n",
       "25%      20.650000    23.260000     0.000000   466.000000       0.003529   \n",
       "50%      20.890000    25.000000     0.000000   580.500000       0.003815   \n",
       "75%      22.356667    26.856667   442.500000   956.333333       0.004532   \n",
       "max      24.408333    31.472500  1697.250000  1402.250000       0.005378   \n",
       "\n",
       "         Occupancy  \n",
       "count  2665.000000  \n",
       "mean      0.364728  \n",
       "std       0.481444  \n",
       "min       0.000000  \n",
       "25%       0.000000  \n",
       "50%       0.000000  \n",
       "75%       1.000000  \n",
       "max       1.000000  "
      ]
     },
     "execution_count": 502,
     "metadata": {},
     "output_type": "execute_result"
    }
   ],
   "source": [
    "dataset_test.data.describe()"
   ]
  },
  {
   "cell_type": "markdown",
   "metadata": {},
   "source": [
    "### Mostramos las primeras 5 filas del dataset de pruebas"
   ]
  },
  {
   "cell_type": "code",
   "execution_count": 503,
   "metadata": {},
   "outputs": [
    {
     "data": {
      "text/html": [
       "<div>\n",
       "<style scoped>\n",
       "    .dataframe tbody tr th:only-of-type {\n",
       "        vertical-align: middle;\n",
       "    }\n",
       "\n",
       "    .dataframe tbody tr th {\n",
       "        vertical-align: top;\n",
       "    }\n",
       "\n",
       "    .dataframe thead th {\n",
       "        text-align: right;\n",
       "    }\n",
       "</style>\n",
       "<table border=\"1\" class=\"dataframe\">\n",
       "  <thead>\n",
       "    <tr style=\"text-align: right;\">\n",
       "      <th></th>\n",
       "      <th>date</th>\n",
       "      <th>Temperature</th>\n",
       "      <th>Humidity</th>\n",
       "      <th>Light</th>\n",
       "      <th>CO2</th>\n",
       "      <th>HumidityRatio</th>\n",
       "      <th>Occupancy</th>\n",
       "    </tr>\n",
       "  </thead>\n",
       "  <tbody>\n",
       "    <tr>\n",
       "      <th>140</th>\n",
       "      <td>2015-02-02 14:19:00</td>\n",
       "      <td>23.7000</td>\n",
       "      <td>26.272</td>\n",
       "      <td>585.200000</td>\n",
       "      <td>749.200000</td>\n",
       "      <td>0.004764</td>\n",
       "      <td>1</td>\n",
       "    </tr>\n",
       "    <tr>\n",
       "      <th>141</th>\n",
       "      <td>2015-02-02 14:19:59</td>\n",
       "      <td>23.7180</td>\n",
       "      <td>26.290</td>\n",
       "      <td>578.400000</td>\n",
       "      <td>760.400000</td>\n",
       "      <td>0.004773</td>\n",
       "      <td>1</td>\n",
       "    </tr>\n",
       "    <tr>\n",
       "      <th>142</th>\n",
       "      <td>2015-02-02 14:21:00</td>\n",
       "      <td>23.7300</td>\n",
       "      <td>26.230</td>\n",
       "      <td>572.666667</td>\n",
       "      <td>769.666667</td>\n",
       "      <td>0.004765</td>\n",
       "      <td>1</td>\n",
       "    </tr>\n",
       "    <tr>\n",
       "      <th>143</th>\n",
       "      <td>2015-02-02 14:22:00</td>\n",
       "      <td>23.7225</td>\n",
       "      <td>26.125</td>\n",
       "      <td>493.750000</td>\n",
       "      <td>774.750000</td>\n",
       "      <td>0.004744</td>\n",
       "      <td>1</td>\n",
       "    </tr>\n",
       "    <tr>\n",
       "      <th>144</th>\n",
       "      <td>2015-02-02 14:23:00</td>\n",
       "      <td>23.7540</td>\n",
       "      <td>26.200</td>\n",
       "      <td>488.600000</td>\n",
       "      <td>779.000000</td>\n",
       "      <td>0.004767</td>\n",
       "      <td>1</td>\n",
       "    </tr>\n",
       "  </tbody>\n",
       "</table>\n",
       "</div>"
      ],
      "text/plain": [
       "                    date  Temperature  Humidity       Light         CO2  \\\n",
       "140  2015-02-02 14:19:00      23.7000    26.272  585.200000  749.200000   \n",
       "141  2015-02-02 14:19:59      23.7180    26.290  578.400000  760.400000   \n",
       "142  2015-02-02 14:21:00      23.7300    26.230  572.666667  769.666667   \n",
       "143  2015-02-02 14:22:00      23.7225    26.125  493.750000  774.750000   \n",
       "144  2015-02-02 14:23:00      23.7540    26.200  488.600000  779.000000   \n",
       "\n",
       "     HumidityRatio  Occupancy  \n",
       "140       0.004764          1  \n",
       "141       0.004773          1  \n",
       "142       0.004765          1  \n",
       "143       0.004744          1  \n",
       "144       0.004767          1  "
      ]
     },
     "execution_count": 503,
     "metadata": {},
     "output_type": "execute_result"
    }
   ],
   "source": [
    "dataset_test.data.head()"
   ]
  },
  {
   "cell_type": "markdown",
   "metadata": {},
   "source": [
    "### Declaramos la funcion para probar nuestro modelo con el dataset de pruebas"
   ]
  },
  {
   "cell_type": "code",
   "execution_count": 504,
   "metadata": {},
   "outputs": [],
   "source": [
    "def test(test):\n",
    "    predictions = np.array([])\n",
    "    true_class = np.array([])\n",
    "    with torch.no_grad():\n",
    "        for index,x,y in test:\n",
    "            output = model(x)\n",
    "            inference = torch.exp(output)\n",
    "            topp,topc = inference.topk(1,dim=1)\n",
    "            predictions = np.append(predictions, topc.numpy())\n",
    "            true_class = np.append(true_class, y.reshape(-1))\n",
    "    return predictions,true_class"
   ]
  },
  {
   "cell_type": "markdown",
   "metadata": {},
   "source": [
    "### Ejecutamos la funcion para probar el dataset de pruebas con nuestro modelo entrenado"
   ]
  },
  {
   "cell_type": "code",
   "execution_count": 505,
   "metadata": {},
   "outputs": [],
   "source": [
    "predictions,true_class = test(test_loader)"
   ]
  },
  {
   "cell_type": "markdown",
   "metadata": {},
   "source": [
    "### Declaramos una funcion para graficar la matriz de confusion"
   ]
  },
  {
   "cell_type": "code",
   "execution_count": 506,
   "metadata": {},
   "outputs": [],
   "source": [
    "def plotcm(cm):\n",
    "    plt.title(\"Confusion Matrix\")\n",
    "    plt.imshow(cm, interpolation='nearest', cmap=plt.cm.Blues)\n",
    "    classes = np.arange(2)\n",
    "    tick_marks = np.arange(len(classes))\n",
    "    plt.xticks(tick_marks, classes, rotation=45)\n",
    "    plt.yticks(tick_marks, classes)\n",
    "    thresh = cm.max() / 2.\n",
    "    for i, j in itertools.product(range(cm.shape[0]), range(cm.shape[1])):\n",
    "        plt.text(j, i, format(cm[i, j], 'd'),\n",
    "                 horizontalalignment=\"center\",\n",
    "                 color=\"white\" if cm[i, j] > thresh else \"black\")\n",
    "    plt.ylabel('True label')\n",
    "    plt.xlabel('Predicted label')\n",
    "    plt.tight_layout()"
   ]
  },
  {
   "cell_type": "markdown",
   "metadata": {},
   "source": [
    "### Obtenemos y graficamos la matriz de confusion "
   ]
  },
  {
   "cell_type": "code",
   "execution_count": 507,
   "metadata": {},
   "outputs": [
    {
     "data": {
      "image/png": "[encoded data removed]",
      "text/plain": [
       "<Figure size 432x288 with 1 Axes>"
      ]
     },
     "metadata": {},
     "output_type": "display_data"
    }
   ],
   "source": [
    "cm = sklearn.metrics.confusion_matrix(predictions,true_class)\n",
    "plotcm(cm)"
   ]
  },
  {
   "cell_type": "markdown",
   "metadata": {},
   "source": [
    "# Optimización empleando un automata celular"
   ]
  },
  {
   "cell_type": "markdown",
   "metadata": {},
   "source": [
    "### Funcion para calcular la combinacion lineal de los pesos con los atributos"
   ]
  },
  {
   "cell_type": "code",
   "execution_count": 273,
   "metadata": {},
   "outputs": [],
   "source": [
    "def linear(w,x):\n",
    "    return np.dot(x,w.T)"
   ]
  },
  {
   "cell_type": "markdown",
   "metadata": {},
   "source": [
    "### Declaracion de la clase Cell que contiene los pesos y la etiqueta"
   ]
  },
  {
   "cell_type": "markdown",
   "metadata": {},
   "source": [
    "<img src=\"images/Automata_Patrones.png\"/>"
   ]
  },
  {
   "cell_type": "code",
   "execution_count": 276,
   "metadata": {},
   "outputs": [],
   "source": [
    "class Cell(object):\n",
    "    def __init__(self):\n",
    "        self.weights = []\n",
    "        self.d = 0"
   ]
  },
  {
   "cell_type": "markdown",
   "metadata": {},
   "source": [
    "### Declaracion del automata"
   ]
  },
  {
   "cell_type": "code",
   "execution_count": 484,
   "metadata": {},
   "outputs": [],
   "source": [
    "class Automaton(object):\n",
    "    def __init__(self,rows,cols,no_in,no_out,func):\n",
    "        super().__init__()\n",
    "        self.lattice = [[Cell() for j in range(cols)] for i in range(rows)]\n",
    "        self.values = np.zeros(shape=(rows,cols))\n",
    "        self.rows = rows\n",
    "        self.cols = cols\n",
    "        self.no_in = no_in\n",
    "        self.no_out = no_out\n",
    "        self.func = func\n",
    "        self.mu = 0.4\n",
    "        self.omega = 0.015\n",
    "        self.maxVal = -float(\"inf\")\n",
    "        self.minVal = float(\"inf\")\n",
    "        self.errors = []\n",
    "        self.minCoordinate = (0,0)\n",
    "        \n",
    "    def initialState(self,train):\n",
    "        for i in range(self.rows):\n",
    "            for j in range(self.cols):\n",
    "                self.lattice[i][j].weights = np.random.rand(self.no_out,self.no_in)\n",
    "        index,x,y = next(iter(train))\n",
    "        self.updateAutomaton(x.numpy(),y.numpy())\n",
    "        \n",
    "    #moore neighborhood\n",
    "    def moore(self):\n",
    "        return [[-1,-1],[-1,0],[-1,1],\n",
    "                [0,-1],[0,0],[0,1],\n",
    "                [1,-1],[1,0],[1,1]]\n",
    "    \n",
    "    def validNeighbor(self,i,j,n):\n",
    "        return ((i+n[0] >= 0 and i+n[0] < self.rows) and \n",
    "                (j+n[1] >= 0 and j+n[1] < self.cols))\n",
    "\n",
    "    def getNeighbors(self,i,j):\n",
    "        neighbors = []\n",
    "        for n in self.moore():\n",
    "            if self.validNeighbor(i,j,n):\n",
    "                x = i+n[0]\n",
    "                y = j+n[1]\n",
    "                neighbors.append([x,y])\n",
    "        return neighbors\n",
    "    \n",
    "    def findMax(self,values):\n",
    "        maxVal = -float(\"inf\")\n",
    "        for i in range(len(values)):\n",
    "            for j in range(len(values[i])):\n",
    "                if values[i][j] > maxVal:\n",
    "                    maxVal = values[i][j]\n",
    "        return maxVal\n",
    "\n",
    "    def findMin(self,values):\n",
    "        coordinates = (0,0)\n",
    "        minVal = float(\"inf\")\n",
    "        for i in range(len(values)):\n",
    "            for j in range(len(values[i])):\n",
    "                if values[i][j] < minVal:\n",
    "                    coordinates = (i,j)\n",
    "                    minVal = values[i][j]\n",
    "        return coordinates,minVal\n",
    "    \n",
    "    def markingOut(self,i,j):\n",
    "        cell = self.lattice[i][j]\n",
    "        res = self.values[i][j]\n",
    "        if (res-self.minVal)/(self.maxVal-self.minVal) <= self.mu:\n",
    "            return 1\n",
    "        else:\n",
    "            return 0\n",
    "        \n",
    "    def markAll(self):\n",
    "        for i in range(self.rows):\n",
    "            for j in range(self.cols):\n",
    "                self.lattice[i][j].d = self.markingOut(i,j)\n",
    "                \n",
    "    def refreshValues(self,x,y):\n",
    "        for i in range(self.rows):\n",
    "            for j in range(self.cols):\n",
    "                self.values[i][j] = self.func(self.lattice[i][j].weights,x,y)\n",
    "    \n",
    "    def W(self,w1,w2):\n",
    "        if ((w1 + 10 * self.omega) > w2\n",
    "            and (w1 - 10 * self.omega) < w2):\n",
    "            return 1\n",
    "        else:\n",
    "            return 0\n",
    "    \n",
    "    def avg(self,i,j,wr,wc):\n",
    "        neighbors = self.getNeighbors(i,j)\n",
    "        total = 0\n",
    "        count = 0\n",
    "        cell = self.lattice[i][j]\n",
    "        for neigh in neighbors:\n",
    "            r = neigh[0]\n",
    "            c = neigh[1]\n",
    "            cell2 = self.lattice[r][c]\n",
    "            w = self.W(cell.weights[wr][wc],cell2.weights[wr][wc])\n",
    "            total += cell2.d * w * cell.weights[wr][wc]\n",
    "            count += cell2.d * w \n",
    "        return total / (count if count != 0 else 1)\n",
    "            \n",
    "    \n",
    "    def evolutionRule1(self,i,j,x,y):\n",
    "        cell = self.lattice[i][j]\n",
    "        newWeights = cell.weights.copy()\n",
    "        for r in range(len(cell.weights)):\n",
    "            for c in range(len(cell.weights[r])):\n",
    "                tempWeights = cell.weights.copy()\n",
    "                tempWeights[r][c] = self.avg(i,j,r,c)\n",
    "                newVal = self.func(tempWeights,x,y)\n",
    "                if newVal < self.values[i][j]:\n",
    "                    newWeights[r][c] = tempWeights[r][c]\n",
    "        return newWeights\n",
    "        \n",
    "    def delta(self,i,j,wr,wc):\n",
    "        cell = self.lattice[i][j]\n",
    "        if cell.d == 0:\n",
    "            r = math.pow(-1,random.randint(1,3))\n",
    "            val = 0\n",
    "            neighbors = self.getNeighbors(i,j)\n",
    "            for n in neighbors:\n",
    "                r = n[0]\n",
    "                c = n[1]\n",
    "                cell2 = self.lattice[r][c]\n",
    "                val = val + math.pow(cell.weights[wr][wc] - cell2.weights[wr][wc],2)\n",
    "            val = (1/(len(neighbors)-1))*val\n",
    "            val = math.pow(val,1/2)\n",
    "            return val\n",
    "        else:\n",
    "            return random.random()\n",
    "    \n",
    "    def evolutionRule2(self,i,j,x,y):\n",
    "        cell = self.lattice[i][j]\n",
    "        newWeights = cell.weights.copy()\n",
    "        for r in range(len(cell.weights)):\n",
    "            for c in range(len(cell.weights[r])):\n",
    "                tempWeights = cell.weights.copy()\n",
    "                tempWeights[r][c] = self.delta(i,j,r,c)\n",
    "                newVal = self.func(tempWeights,x,y)\n",
    "                if newVal < self.values[i][j]:\n",
    "                    newWeights[r][c] = tempWeights[r][c]\n",
    "        return newWeights\n",
    "    \n",
    "    def applyRule(self, rule,x,y):\n",
    "        tempLattice = []\n",
    "        for i in range(self.rows):\n",
    "            row = []\n",
    "            for j in range(self.cols):\n",
    "                cell = Cell()\n",
    "                cell.weights = rule(i,j,x,y)\n",
    "                row.append(cell)\n",
    "            tempLattice.append(row)\n",
    "        return np.array(tempLattice)\n",
    "    \n",
    "    def updateAutomaton(self,x,y):\n",
    "        self.refreshValues(x,y)\n",
    "        self.maxVal = self.findMax(self.values)\n",
    "        self.minCoordinate, self.minVal = self.findMin(self.values)\n",
    "        self.markAll()\n",
    "    \n",
    "    def train(self,epochs,train):\n",
    "        for epoch in range(epochs):\n",
    "            error = 0\n",
    "            for index,x,y in train:\n",
    "                x = x.numpy()\n",
    "                y = y.numpy()\n",
    "                for it in range(3):\n",
    "                    self.lattice = self.applyRule(self.evolutionRule1,x,y)\n",
    "                    self.updateAutomaton(x,y)\n",
    "                self.lattice = self.applyRule(self.evolutionRule2,x,y)\n",
    "                self.updateAutomaton(x,y)\n",
    "                error += self.minVal\n",
    "            self.errors.append(error)\n",
    "            \n",
    "    def test2(self,test):\n",
    "        p = np.array([])\n",
    "        t = np.array([])\n",
    "        accuracy = 0\n",
    "        for index,x,y in test:\n",
    "            i = self.minCoordinate[0]\n",
    "            j = self.minCoordinate[1]\n",
    "            cell = self.lattice[i][j]\n",
    "            weights = cell.weights\n",
    "            output = F.log_softmax(torch.from_numpy(linear(weights,x)),dim=1)\n",
    "            inference = torch.exp(output)\n",
    "            topp,topc = inference.topk(1,dim=1)\n",
    "            equals = topc == y.view(*topc.shape)\n",
    "            accuracy += torch.sum(equals.type(torch.FloatTensor))\n",
    "            p = np.append(p, topc.numpy())\n",
    "            t = np.append(t, y.reshape(-1))\n",
    "        accuracy = accuracy / len(dataset_test.data)\n",
    "        return p,t,accuracy\n",
    "                    \n",
    "                "
   ]
  },
  {
   "cell_type": "markdown",
   "metadata": {},
   "source": [
    "### Declaramos la funcion de error"
   ]
  },
  {
   "cell_type": "code",
   "execution_count": 485,
   "metadata": {},
   "outputs": [],
   "source": [
    "loss = torch.nn.NLLLoss()"
   ]
  },
  {
   "cell_type": "markdown",
   "metadata": {},
   "source": [
    "### Declaramos la funcion que vamos a optimizar"
   ]
  },
  {
   "cell_type": "code",
   "execution_count": 486,
   "metadata": {},
   "outputs": [],
   "source": [
    "def func1(w,x,y):\n",
    "    with torch.no_grad():\n",
    "        vl = torch.from_numpy(linear(w,x)).type(torch.Tensor)\n",
    "        vl = F.log_softmax(vl,dim=1)\n",
    "        target = y.reshape(-1)\n",
    "        target = torch.from_numpy(target).type(torch.LongTensor)\n",
    "        error = loss(vl,target)\n",
    "    return error\n",
    "    "
   ]
  },
  {
   "cell_type": "code",
   "execution_count": 487,
   "metadata": {},
   "outputs": [],
   "source": [
    "layer1 = Automaton(3,3,5,2,func1)\n",
    "layer1.initialState(train_loader)\n",
    "layer1.train(2,train_loader)"
   ]
  },
  {
   "cell_type": "markdown",
   "metadata": {},
   "source": [
    "### Graficamos el error de entrenamiento"
   ]
  },
  {
   "cell_type": "code",
   "execution_count": 488,
   "metadata": {},
   "outputs": [
    {
     "data": {
      "image/png": "[encoded data removed]",
      "text/plain": [
       "<Figure size 432x288 with 1 Axes>"
      ]
     },
     "metadata": {},
     "output_type": "display_data"
    }
   ],
   "source": [
    "plt.plot(layer1.errors,label=\"training\")\n",
    "plt.xlabel(\"epochs\")\n",
    "plt.ylabel(\"error\")\n",
    "plt.legend()\n",
    "plt.show()"
   ]
  },
  {
   "cell_type": "markdown",
   "metadata": {},
   "source": [
    "### Probamos el modelo y graficamos la matriz de confusion"
   ]
  },
  {
   "cell_type": "code",
   "execution_count": 489,
   "metadata": {
    "scrolled": true
   },
   "outputs": [
    {
     "data": {
      "image/png": "[encoded data removed]",
      "text/plain": [
       "<Figure size 432x288 with 1 Axes>"
      ]
     },
     "metadata": {},
     "output_type": "display_data"
    }
   ],
   "source": [
    "p,t,accuracy = layer1.test2(test_loader)\n",
    "cm2 = sklearn.metrics.confusion_matrix(p,t)\n",
    "plotcm(cm2)"
   ]
  },
  {
   "cell_type": "code",
   "execution_count": 491,
   "metadata": {},
   "outputs": [
    {
     "name": "stdout",
     "output_type": "stream",
     "text": [
      "tensor(97.8612)\n"
     ]
    }
   ],
   "source": [
    "print(accuracy*100)"
   ]
  },
  {
   "cell_type": "code",
   "execution_count": null,
   "metadata": {},
   "outputs": [],
   "source": []
  }
 ],
 "metadata": {
  "kernelspec": {
   "display_name": "Python 3",
   "language": "python",
   "name": "python3"
  },
  "language_info": {
   "codemirror_mode": {
    "name": "ipython",
    "version": 3
   },
   "file_extension": ".py",
   "mimetype": "text/x-python",
   "name": "python",
   "nbconvert_exporter": "python",
   "pygments_lexer": "ipython3",
   "version": "3.6.5"
  }
 },
 "nbformat": 4,
 "nbformat_minor": 2
}
